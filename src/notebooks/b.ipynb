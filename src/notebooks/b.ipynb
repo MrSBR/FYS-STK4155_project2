{
 "cells": [
  {
   "cell_type": "code",
   "execution_count": 51,
   "metadata": {},
   "outputs": [],
   "source": [
    "from mpl_toolkits.mplot3d import Axes3D\n",
    "import matplotlib.pyplot as plt\n",
    "from matplotlib import cm\n",
    "from matplotlib.ticker import LinearLocator, FormatStrFormatter\n",
    "import numpy as np\n",
    "from random import random, seed\n",
    "import sys\n",
    "sys.path.append(\"../\")\n",
    "import functions as f\n",
    "plt.style.use('seaborn-v0_8-whitegrid')\n",
    "#plt.style.available\n",
    "import seaborn as sns\n",
    "import load_data as ld\n",
    "import classes as cl"
   ]
  },
  {
   "cell_type": "code",
   "execution_count": 52,
   "metadata": {},
   "outputs": [
    {
     "name": "stdout",
     "output_type": "stream",
     "text": [
      "0.79\n",
      "3.651680127313877\n",
      "-101.02777636772468\n",
      "Accuracy: 0.79\n",
      "MSE: 3.651680127313877\n",
      "R2 Score: -101.02777636772468\n"
     ]
    }
   ],
   "source": [
    "X, y = ld.load_simple_data()\n",
    "\n",
    "X = X.T\n",
    "inputs = X\n",
    "targets = y.T\n",
    "\n",
    "network_input_size = X.shape[1]\n",
    "layer_output_sizes = [10,10,3]\n",
    "activation_funcs = [f.sigmoid, f.sigmoid, f.softmax]\n",
    "\n",
    "layers = f.create_layers_batch(network_input_size, layer_output_sizes)\n",
    "\n",
    "\n",
    "#predictions = f.feed_forward_batch(inputs, layers, activation_funcs)\n",
    "predictions = f.train_network(inputs, targets, layers, activation_funcs, 0.001, 2000)\n",
    "accuracy_score = f.accuracy(predictions, targets)\n",
    "\n",
    "print(accuracy_score)\n",
    "print(f.mse(predictions, targets))\n",
    "print(f.r2(predictions, targets))\n",
    "\n",
    "# MSE function definition\n",
    "def MSE(y_data, y_model):\n",
    "    n = np.size(y_model)\n",
    "    return np.sum((y_data - y_model)**2) / n\n",
    "\n",
    "accuracy_score = f.accuracy(predictions, targets)\n",
    "print(f\"Accuracy: {accuracy_score}\")\n",
    "\n",
    "#MSE\n",
    "mse_value = f.mse(predictions, targets)\n",
    "print(f\"MSE: {mse_value}\")\n",
    "\n",
    "#R2 score\n",
    "r2_value = f.r2(predictions, targets)\n",
    "print(f\"R2 Score: {r2_value}\")\n",
    "\n"
   ]
  }
 ],
 "metadata": {
  "kernelspec": {
   "display_name": "Python 3",
   "language": "python",
   "name": "python3"
  },
  "language_info": {
   "codemirror_mode": {
    "name": "ipython",
    "version": 3
   },
   "file_extension": ".py",
   "mimetype": "text/x-python",
   "name": "python",
   "nbconvert_exporter": "python",
   "pygments_lexer": "ipython3",
   "version": "3.12.4"
  }
 },
 "nbformat": 4,
 "nbformat_minor": 2
}
