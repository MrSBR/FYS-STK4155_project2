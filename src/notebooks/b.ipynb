{
 "cells": [
  {
   "cell_type": "code",
   "execution_count": 1,
   "metadata": {},
   "outputs": [],
   "source": [
    "from mpl_toolkits.mplot3d import Axes3D\n",
    "import matplotlib.pyplot as plt\n",
    "from matplotlib import cm\n",
    "from matplotlib.ticker import LinearLocator, FormatStrFormatter\n",
    "import numpy as np\n",
    "from random import random, seed\n",
    "import sys\n",
    "sys.path.append(\"../\")\n",
    "import functions as f\n",
    "plt.style.use('seaborn-v0_8-whitegrid')\n",
    "#plt.style.available\n",
    "import seaborn as sns\n",
    "import load_data as ld\n",
    "import classes as cl"
   ]
  },
  {
   "cell_type": "code",
   "execution_count": 2,
   "metadata": {},
   "outputs": [
    {
     "name": "stdout",
     "output_type": "stream",
     "text": [
      "0.48\n",
      "3.6426279140418303\n",
      "-544563.6586213668\n"
     ]
    }
   ],
   "source": [
    "X, y = ld.load_simple_data()\n",
    "\n",
    "X = X.T\n",
    "inputs = X\n",
    "targets = y.T\n",
    "\n",
    "network_input_size = X.shape[1]\n",
    "layer_output_sizes = [10,10,3]\n",
    "activation_funcs = [f.sigmoid, f.sigmoid, f.softmax]\n",
    "layers = f.create_layers_batch(network_input_size, layer_output_sizes)\n",
    "\n",
    "#predictions = f.feed_forward_batch(inputs, layers, activation_funcs)\n",
    "predictions = f.train_network(inputs, targets, layers, activation_funcs, 0.1, 1000)\n",
    "accuracy_score = f.accuracy(predictions, targets)\n",
    "\n",
    "print(accuracy_score)\n",
    "print(f.mse(predictions, targets))\n",
    "print(f.r2(predictions, targets))"
   ]
  }
 ],
 "metadata": {
  "language_info": {
   "name": "python"
  }
 },
 "nbformat": 4,
 "nbformat_minor": 2
}
