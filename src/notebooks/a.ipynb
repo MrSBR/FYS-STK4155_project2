{
 "cells": [
  {
   "cell_type": "code",
   "execution_count": 1,
   "metadata": {},
   "outputs": [
    {
     "name": "stdout",
     "output_type": "stream",
     "text": [
      "3\n",
      "[0.88114956 0.82005649 0.73665888]\n",
      "[-1.22541231  1.12483019 -1.18774191]\n",
      "[0.88378481 0.82957288 0.72425269]\n",
      "[0.87919261 0.82554568 0.72457299]\n"
     ]
    }
   ],
   "source": [
    "import matplotlib.pyplot as plt\n",
    "import numpy as np\n",
    "from sklearn.metrics import mean_squared_error\n",
    "from random import random, seed\n",
    "import sys\n",
    "sys.path.append(\"../\")\n",
    "import functions as f\n",
    "plt.style.use('seaborn-v0_8-whitegrid')\n",
    "#plt.style.available\n",
    "import load_data as ld\n",
    "import classes as cl\n",
    "from sklearn.model_selection import train_test_split\n",
    "\n",
    "# Load simple data\n",
    "X, y, x, a_true = ld.load_simple_data(100, 0.1)\n",
    "\n",
    "# split data\n",
    "X_train, X_test, y_train, y_test = train_test_split(X, y, test_size = 0.2,\\\n",
    "     random_state = 2024)\n",
    "\n",
    "# Scale data\n",
    "X_train, X_test = f.scale_train_test(X_train, X_test)\n",
    "y_train, y_test = f.scale_train_test(y_train, y_test)\n",
    "\n",
    "# Initial beta\n",
    "beta_init = np.random.randn(X.shape[1])\n",
    "print(X.shape[1])\n",
    "print(a_true)\n",
    "\n",
    "#analytical solution for beta\n",
    "betaOLS = f.beta_OLS(X, y) #analytical solution for beta\n",
    "betaRidge = f.beta_Ridge(X, y, 0.5)\n",
    "\n",
    "print(beta_init)\n",
    "print(betaOLS)\n",
    "print(betaRidge)"
   ]
  },
  {
   "cell_type": "code",
   "execution_count": 2,
   "metadata": {},
   "outputs": [
    {
     "name": "stdout",
     "output_type": "stream",
     "text": [
      "[0.26089698 0.95388038 0.89253865]\n",
      "0.2731105568226007\n",
      "[0.27542128 0.89161104 0.86313741]\n",
      "0.26411806936456456\n"
     ]
    }
   ],
   "source": [
    "#Task 1) plain gradient descent with and without ridge\n",
    "#OLS)\n",
    "gd = cl.GradientDescent(X, y, beta_init, learning_rate=0.01, epochs=100, optimizer='gd', gradient_method='analytical', lambda_param=0.1)\n",
    "optimized_gd_beta = gd.optimize()\n",
    "print(optimized_gd_beta)\n",
    "ygd = optimized_gd_beta[0] + optimized_gd_beta[1]*x + optimized_gd_beta[2]*x**2\n",
    "print(mean_squared_error(y, ygd))\n",
    "#Ridge)\n",
    "rgd = cl.GradientDescent(X, y, beta_init, learning_rate=0.01, epochs=100, optimizer='gd', gradient_method='analytical', lambda_param=0.1, cost_function='ridge')\n",
    "optimized_rgd_beta = rgd.optimize()\n",
    "print(optimized_rgd_beta)\n",
    "yrgd = optimized_rgd_beta[0] + optimized_rgd_beta[1]*x + optimized_rgd_beta[2]*x**2\n",
    "print(mean_squared_error(y, yrgd))"
   ]
  },
  {
   "cell_type": "code",
   "execution_count": 3,
   "metadata": {},
   "outputs": [
    {
     "name": "stdout",
     "output_type": "stream",
     "text": [
      "[0.8888034  0.82885954 0.72834302]\n",
      "0.011273641042086209\n",
      "[0.80079571 0.75458433 0.72936325]\n",
      "0.023232293923448822\n"
     ]
    }
   ],
   "source": [
    "#task 2) momentum gradient descent with and without ridge and comparison to plain gradient descent\n",
    "#OLS)\n",
    "mgd = cl.GradientDescent(X, y, beta_init, learning_rate=0.01, epochs=100, optimizer='gd', gradient_method='analytical', lambda_param=0.1, momentum = 0.9)\n",
    "optimized_mgd_beta = mgd.optimize()\n",
    "print(optimized_mgd_beta)\n",
    "ymgd = optimized_mgd_beta[0] + optimized_mgd_beta[1]*x + optimized_mgd_beta[2]*x**2\n",
    "print(mean_squared_error(y, ymgd))\n",
    "#Ridge)\n",
    "rmgd = cl.GradientDescent(X, y, beta_init, learning_rate=0.01, epochs=100, optimizer='gd', gradient_method='analytical', lambda_param=0.1, cost_function='ridge', momentum = 0.9)\n",
    "optimized_rmgd_beta = rmgd.optimize()\n",
    "print(optimized_rmgd_beta)\n",
    "yrmgd = optimized_rmgd_beta[0] + optimized_rmgd_beta[1]*x + optimized_rmgd_beta[2]*x**2\n",
    "print(mean_squared_error(y, yrmgd))\n",
    "\n",
    "#comparing with the above loss values, we clearly see faster convergence"
   ]
  },
  {
   "cell_type": "code",
   "execution_count": 4,
   "metadata": {},
   "outputs": [
    {
     "name": "stdout",
     "output_type": "stream",
     "text": [
      "[0.87663331 0.82775995 0.72606305]\n",
      "0.011203095772972304\n",
      "[0.86999952 0.82087838 0.72761533]\n",
      "0.011375516590539356\n",
      "[0.87978189 0.83751816 0.72110234]\n",
      "0.011292985956383577\n",
      "[0.87263475 0.82619899 0.71973439]\n",
      "0.01145339318557949\n",
      "[-0.62467896  1.46363618 -0.51462547]\n",
      "[0.13373502 0.96108766 0.90663403]\n",
      "[0.87202562 0.83957187 0.72126485]\n",
      "[-0.58606995  1.1324301  -0.22863593]\n",
      "[0.23147652 0.98479399 0.92768846]\n",
      "[0.87980255 0.83076127 0.72261444]\n",
      "[-0.5998412   1.09134975 -0.07551653]\n",
      "[0.23758263 0.96604805 0.91739154]\n",
      "[0.87923859 0.83228753 0.72864839]\n",
      "Batch size: 1, Epochs: 20, Loss: 10.25014851672666\n",
      "Batch size: 1, Epochs: 100, Loss: 0.39737841389558154\n",
      "Batch size: 1, Epochs: 1000, Loss: 0.0114888190885045\n",
      "Batch size: 5, Epochs: 20, Loss: 7.31967315935842\n",
      "Batch size: 5, Epochs: 100, Loss: 0.2951324206779971\n",
      "Batch size: 5, Epochs: 1000, Loss: 0.011201827767975998\n",
      "Batch size: 20, Epochs: 20, Loss: 6.233842316499133\n",
      "Batch size: 20, Epochs: 100, Loss: 0.2881300725846043\n",
      "Batch size: 20, Epochs: 1000, Loss: 0.011201045753229454\n"
     ]
    }
   ],
   "source": [
    "#task 3) repeat for stochastic gradient descent and dicuss results with respect to batch size, number of epochs etc\n",
    "#without momentum\n",
    "#OLS)\n",
    "gd = cl.StochasticGradientDescent(X, y, beta_init, learning_rate=0.01, epochs=1000, optimizer='sgd', gradient_method='analytical', lambda_param=0.1)\n",
    "optimized_gd_beta = gd.optimize()\n",
    "print(optimized_gd_beta)\n",
    "ygd = optimized_gd_beta[0] + optimized_gd_beta[1]*x + optimized_gd_beta[2]*x**2\n",
    "print(mean_squared_error(y, ygd))\n",
    "#Ridge)\n",
    "rgd = cl.StochasticGradientDescent(X, y, beta_init, learning_rate=0.01, epochs=1000, optimizer='sgd', gradient_method='analytical', lambda_param=0.1, cost_function='ridge')\n",
    "optimized_rgd_beta = rgd.optimize()\n",
    "print(optimized_rgd_beta)\n",
    "yrgd = optimized_rgd_beta[0] + optimized_rgd_beta[1]*x + optimized_rgd_beta[2]*x**2\n",
    "print(mean_squared_error(y, yrgd))\n",
    "#with momentum\n",
    "#OLS)\n",
    "mgd = cl.StochasticGradientDescent(X, y, beta_init, learning_rate=0.01, epochs=1000, optimizer='sgd', gradient_method='analytical', lambda_param=0.1, momentum = 0.9)\n",
    "optimized_mgd_beta = mgd.optimize()\n",
    "print(optimized_mgd_beta)\n",
    "ymgd = optimized_mgd_beta[0] + optimized_mgd_beta[1]*x + optimized_mgd_beta[2]*x**2\n",
    "print(mean_squared_error(y, ymgd))\n",
    "#Ridge)\n",
    "rmgd = cl.StochasticGradientDescent(X, y, beta_init, learning_rate=0.01, epochs=1000, optimizer='sgd', gradient_method='analytical', lambda_param=0.1, cost_function='ridge', momentum = 0.9)\n",
    "optimized_rmgd_beta = rmgd.optimize()\n",
    "print(optimized_rmgd_beta)\n",
    "yrmgd = optimized_rmgd_beta[0] + optimized_rmgd_beta[1]*x + optimized_rmgd_beta[2]*x**2\n",
    "print(mean_squared_error(y, yrmgd))\n",
    "\n",
    "#this clearly converges faster than standard gradient descent (here we have batch sizes 1/10th the size, and 10x the epochs,\n",
    "#so the same amount of computations.\n",
    "\n",
    "#testing various batch sizes and number of epochs using OLS without momentum\n",
    "batch_sizes = [1, 5, 20]\n",
    "epochsls = [20, 100, 1000]\n",
    "cost_history = []\n",
    "for batch_size in batch_sizes:\n",
    "    for epochs in epochsls:\n",
    "        gd = cl.StochasticGradientDescent(X, y, beta_init, learning_rate=0.01, epochs=epochs, optimizer='sgd', gradient_method='analytical', lambda_param=0.1, batch_size=batch_size)\n",
    "        optimized_gd_beta = gd.optimize()\n",
    "        print(optimized_gd_beta)\n",
    "        ygd = optimized_gd_beta[0] + optimized_gd_beta[1]*x + optimized_gd_beta[2]*x**2\n",
    "        cost_history.append((batch_size, epochs, mean_squared_error(y, ygd)))\n",
    "\n",
    "for t in cost_history:\n",
    "    print(f\"Batch size: {t[0]}, Epochs: {t[1]}, Loss: {t[2]}\")\n",
    "#for this simple of a function, it seems that every single datapoint gives a gradient representative of the whole dataset\n",
    "#that is shown by the batch_size increasing doesn't seem to matter much for the loss, while increasing epochs dramatically\n",
    "#decreases the loss."
   ]
  },
  {
   "cell_type": "code",
   "execution_count": 5,
   "metadata": {},
   "outputs": [
    {
     "name": "stdout",
     "output_type": "stream",
     "text": [
      "[-0.64350203  0.84227052 -0.60711252]\n",
      "10.852616470567826\n",
      "[0.86515627 0.83041595 0.73453607]\n",
      "0.011400314778876472\n",
      "[0.85634876 0.83082015 0.73923755]\n",
      "0.01167183728398292\n",
      "[-0.64612468  1.03607875 -0.6959515 ]\n",
      "11.794139544420121\n",
      "[0.90611355 0.83028614 0.70745824]\n",
      "0.011638308085546301\n"
     ]
    }
   ],
   "source": [
    "#task 4, using adagrad on all previous methods (don't test for ridge since it would simply bloat the code)\n",
    "#OLS, no momentum, standard gradient descent\n",
    "gd = cl.GradientDescent(X, y, beta_init, learning_rate=0.01, epochs=1000, optimizer='adagrad', gradient_method='analytical', lambda_param=0.1)\n",
    "optimized_gd_beta = gd.optimize()\n",
    "print(optimized_gd_beta)\n",
    "ygd = optimized_gd_beta[0] + optimized_gd_beta[1]*x + optimized_gd_beta[2]*x**2\n",
    "print(mean_squared_error(y, ygd))\n",
    "    #repeat with 100x higher epochs to show that adagrad slows down convergence\n",
    "gd = cl.GradientDescent(X, y, beta_init, learning_rate=0.01, epochs=100000, optimizer='adagrad', gradient_method='analytical', lambda_param=0.1)\n",
    "optimized_gd_beta = gd.optimize()\n",
    "print(optimized_gd_beta)\n",
    "ygd = optimized_gd_beta[0] + optimized_gd_beta[1]*x + optimized_gd_beta[2]*x**2\n",
    "print(mean_squared_error(y, ygd))\n",
    "#OLS, momentum, standard gradient descent\n",
    "mgd = cl.GradientDescent(X, y, beta_init, learning_rate=0.01, epochs=1000, optimizer='adagrad', gradient_method='analytical', lambda_param=0.1, momentum = 0.9)\n",
    "optimized_mgd_beta = mgd.optimize()\n",
    "print(optimized_mgd_beta)\n",
    "ymgd = optimized_mgd_beta[0] + optimized_mgd_beta[1]*x + optimized_mgd_beta[2]*x**2\n",
    "print(mean_squared_error(y, ymgd))\n",
    "#OLS, momentum, stochastic standard gradient descent\n",
    "gd = cl.StochasticGradientDescent(X, y, beta_init, learning_rate=0.01, epochs=1000, optimizer='adagrad', gradient_method='analytical', lambda_param=0.1)\n",
    "optimized_gd_beta = gd.optimize()\n",
    "print(optimized_gd_beta)\n",
    "ygd = optimized_gd_beta[0] + optimized_gd_beta[1]*x + optimized_gd_beta[2]*x**2\n",
    "print(mean_squared_error(y, ygd))\n",
    "#OLS, momentum, stochastic standard gradient descent\n",
    "mgd = cl.StochasticGradientDescent(X, y, beta_init, learning_rate=0.01, epochs=1000, optimizer='adagrad', gradient_method='analytical', lambda_param=0.1, momentum = 0.9)\n",
    "optimized_mgd_beta = mgd.optimize()\n",
    "print(optimized_mgd_beta)\n",
    "ymgd = optimized_mgd_beta[0] + optimized_mgd_beta[1]*x + optimized_mgd_beta[2]*x**2\n",
    "print(mean_squared_error(y, ymgd))\n",
    "\n",
    "\n",
    "#so we see that adagrad heavily slows down convergence. It can be balanced out by using momentum,\n",
    "#as we see the implementations with momentum converge much faster."
   ]
  },
  {
   "cell_type": "code",
   "execution_count": 6,
   "metadata": {},
   "outputs": [
    {
     "name": "stdout",
     "output_type": "stream",
     "text": [
      "[0.88567603 0.82825509 0.72495255]\n",
      "0.011174107606737267\n",
      "[-0.32270271  0.84062514 -0.2883478 ]\n",
      "6.47873450907293\n",
      "[0.88776323 0.83355126 0.7282311 ]\n",
      "0.011268016915592885\n",
      "[0.88378481 0.82957288 0.72425269]\n",
      "0.01116505656129741\n",
      "[0.88532094 0.90355761 0.78536527]\n",
      "0.025988725539618868\n",
      "[0.87630129 0.82991509 0.72843488]\n",
      "0.011203341543126504\n"
     ]
    }
   ],
   "source": [
    "#task 5) test out rmsprop and adam\n",
    "#OLS, Standard gradient descent, rmsprop\n",
    "gd = cl.GradientDescent(X, y, beta_init, learning_rate=0.01, epochs=100, optimizer='rmsprop', gradient_method='analytical', lambda_param=0.1, momentum=0.9)\n",
    "optimized_gd_beta = gd.optimize()\n",
    "print(optimized_gd_beta)\n",
    "ygd = optimized_gd_beta[0] + optimized_gd_beta[1]*x + optimized_gd_beta[2]*x**2\n",
    "print(mean_squared_error(y, ygd))\n",
    "#OLS, Standard gradient descent, ADAM\n",
    "gd = cl.GradientDescent(X, y, beta_init, learning_rate=0.01, epochs=100, optimizer='adam', gradient_method='analytical', lambda_param=0.1)\n",
    "optimized_gd_beta = gd.optimize()\n",
    "print(optimized_gd_beta)\n",
    "ygd = optimized_gd_beta[0] + optimized_gd_beta[1]*x + optimized_gd_beta[2]*x**2\n",
    "print(mean_squared_error(y, ygd))\n",
    "\n",
    "#rmsprop and ADAM for higher epochs:\n",
    "#OLS, Standard gradient descent, rmsprop\n",
    "gd = cl.GradientDescent(X, y, beta_init, learning_rate=0.01, epochs=10000, optimizer='rmsprop', gradient_method='analytical', lambda_param=0.1, momentum=0.9)\n",
    "optimized_gd_beta = gd.optimize()\n",
    "print(optimized_gd_beta)\n",
    "ygd = optimized_gd_beta[0] + optimized_gd_beta[1]*x + optimized_gd_beta[2]*x**2\n",
    "print(mean_squared_error(y, ygd))\n",
    "#OLS, Standard gradient descent, ADAM\n",
    "gd = cl.GradientDescent(X, y, beta_init, learning_rate=0.01, epochs=10000, optimizer='adam', gradient_method='analytical', lambda_param=0.1)\n",
    "optimized_gd_beta = gd.optimize()\n",
    "print(optimized_gd_beta)\n",
    "ygd = optimized_gd_beta[0] + optimized_gd_beta[1]*x + optimized_gd_beta[2]*x**2\n",
    "print(mean_squared_error(y, ygd))\n",
    "\n",
    "#OLS, Stochastic gradient descent, rmsprop\n",
    "gd = cl.StochasticGradientDescent(X, y, beta_init, learning_rate=0.01, epochs=1000, optimizer='rmsprop', gradient_method='analytical', lambda_param=0.1, momentum=0.9)\n",
    "optimized_gd_beta = gd.optimize()\n",
    "print(optimized_gd_beta)\n",
    "ygd = optimized_gd_beta[0] + optimized_gd_beta[1]*x + optimized_gd_beta[2]*x**2\n",
    "print(mean_squared_error(y, ygd))\n",
    "#OLS, Stochastic gradient descent, adam\n",
    "gd = cl.StochasticGradientDescent(X, y, beta_init, learning_rate=0.01, epochs=1000, optimizer='adam', gradient_method='analytical', lambda_param=0.1)\n",
    "optimized_gd_beta = gd.optimize()\n",
    "print(optimized_gd_beta)\n",
    "ygd = optimized_gd_beta[0] + optimized_gd_beta[1]*x + optimized_gd_beta[2]*x**2\n",
    "print(mean_squared_error(y, ygd))\n",
    "\n",
    "#we can see that, for example, \"standard gradient descent, rmsprop, OLS\" converges well\n",
    "#after only 100 epochs. This shows that RMSprop creates much faster convergence. adam struggles more\n",
    "#(which I find weird?) but cathces up to RMSprop and ultimately produces better results after many iterations\n",
    "#stochastic works well with both, but better with adam than RMSProp + momentum"
   ]
  },
  {
   "cell_type": "code",
   "execution_count": 7,
   "metadata": {},
   "outputs": [
    {
     "name": "stdout",
     "output_type": "stream",
     "text": [
      "[0.88378481 0.82957288 0.72425269]\n",
      "[-0.64350203  0.84227052 -0.60711252]\n",
      "[0.85634876 0.83082015 0.73923755]\n",
      "[0.87630129 0.82991509 0.72843488]\n"
     ]
    }
   ],
   "source": [
    "\n",
    "\n",
    "mgd = cl.GradientDescent(X, y, beta_init, learning_rate=0.01, epochs=1000, optimizer='gd', gradient_method='analytical', lambda_param=0.1, momentum = 0.9)\n",
    "optimized_mgd_beta = mgd.optimize()\n",
    "\n",
    "agd = cl.GradientDescent(X, y, beta_init, learning_rate=0.01, epochs=1000, optimizer='adagrad', gradient_method='analytical', lambda_param=0.1)\n",
    "optimized_agd_beta = agd.optimize()\n",
    "\n",
    "magd = cl.GradientDescent(X, y, beta_init, learning_rate=0.01, epochs=1000, optimizer='adagrad', gradient_method='analytical', lambda_param=0.1, momentum = 0.9)\n",
    "optimized_magd_beta = magd.optimize()\n",
    "\n",
    "sgd = cl.StochasticGradientDescent(X, y, beta_init, learning_rate=0.01, epochs=1000, optimizer='adam', gradient_method='analytical')\n",
    "optimized_sgd_beta = sgd.optimize()\n",
    "\n",
    "print(optimized_mgd_beta)\n",
    "print(optimized_agd_beta)\n",
    "print(optimized_magd_beta)\n",
    "print(optimized_sgd_beta)"
   ]
  },
  {
   "cell_type": "code",
   "execution_count": 8,
   "metadata": {},
   "outputs": [
    {
     "name": "stdout",
     "output_type": "stream",
     "text": [
      "0.01116505656129741\n",
      "10.852616470567826\n",
      "0.01167183728398292\n",
      "0.011203341543126504\n"
     ]
    }
   ],
   "source": [
    "ymgd = optimized_mgd_beta[0] + optimized_mgd_beta[1]*x + optimized_mgd_beta[2]*x**2\n",
    "yagd = optimized_agd_beta[0] + optimized_agd_beta[1]*x + optimized_agd_beta[2]*x**2\n",
    "ymagd = optimized_magd_beta[0] + optimized_magd_beta[1]*x + optimized_magd_beta[2]*x**2\n",
    "\n",
    "\n",
    "ysgd = optimized_sgd_beta[0] + optimized_sgd_beta[1]*x + optimized_sgd_beta[2]*x**2\n",
    "\n",
    "print(mean_squared_error(y, ymgd))\n",
    "print(mean_squared_error(y, yagd))\n",
    "#adagrad converges slower. For higher epochs it converges similarly to the others\n",
    "print(mean_squared_error(y, ymagd))\n",
    "print(mean_squared_error(y, ysgd))"
   ]
  },
  {
   "cell_type": "code",
   "execution_count": 9,
   "metadata": {},
   "outputs": [
    {
     "data": {
      "image/png": "[encoded data removed]",
      "text/plain": [
       "<Figure size 640x480 with 1 Axes>"
      ]
     },
     "metadata": {},
     "output_type": "display_data"
    }
   ],
   "source": [
    "#plotting\n",
    "sort_inds = np.argsort(x)\n",
    "plt.plot(x[sort_inds], y[sort_inds], label='Datapoints')\n",
    "plt.plot(x[sort_inds], ygd[sort_inds], label='Gradient Descent')\n",
    "plt.plot(x[sort_inds], ysgd[sort_inds], label='Stochastic Gradient Descent')\n",
    "plt.xlabel('X')\n",
    "plt.ylabel('y')\n",
    "plt.title('Regression analysis of polynomial data')\n",
    "plt.legend()\n",
    "plt.savefig('../results/PolynomialRegressionAnalysis.png')\n",
    "plt.show()"
   ]
  }
 ],
 "metadata": {
  "kernelspec": {
   "display_name": "Python 3.11.7 ('base')",
   "language": "python",
   "name": "python3"
  },
  "language_info": {
   "codemirror_mode": {
    "name": "ipython",
    "version": 3
   },
   "file_extension": ".py",
   "mimetype": "text/x-python",
   "name": "python",
   "nbconvert_exporter": "python",
   "pygments_lexer": "ipython3",
   "version": "3.11.7"
  },
  "vscode": {
   "interpreter": {
    "hash": "40d3a090f54c6569ab1632332b64b2c03c39dcf918b08424e98f38b5ae0af88f"
   }
  }
 },
 "nbformat": 4,
 "nbformat_minor": 2
}
