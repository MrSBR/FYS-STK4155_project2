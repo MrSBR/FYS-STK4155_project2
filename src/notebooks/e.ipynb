{
 "cells": [
  {
   "cell_type": "code",
   "execution_count": 1,
   "metadata": {},
   "outputs": [],
   "source": [
    "from mpl_toolkits.mplot3d import Axes3D\n",
    "import matplotlib.pyplot as plt\n",
    "from matplotlib import cm\n",
    "from matplotlib.ticker import LinearLocator, FormatStrFormatter\n",
    "import numpy as np\n",
    "from random import random, seed\n",
    "import sys\n",
    "sys.path.append(\"../\")\n",
    "import functions as f\n",
    "plt.style.use('seaborn-v0_8-whitegrid')\n",
    "#plt.style.available\n",
    "import seaborn as sns\n",
    "import load_data as ld\n",
    "import classes as cl\n",
    "from sklearn.model_selection import train_test_split\n",
    "from sklearn.metrics import accuracy_score\n",
    "from sklearn.datasets import make_classification\n",
    "import functions as f\n",
    "import pandas as pd"
   ]
  },
  {
   "cell_type": "code",
   "execution_count": 2,
   "metadata": {},
   "outputs": [],
   "source": [
    "class LogisticRegressionGD:\n",
    "    def __init__(self, learning_rate=0.01, n_iter=1000, lambda_reg=0.0):\n",
    "        self.learning_rate = learning_rate\n",
    "        self.n_iter = n_iter\n",
    "        self.lambda_reg = lambda_reg\n",
    "        self.beta = None\n",
    "\n",
    "    def sigmoid(self, z):\n",
    "        return 1 / (1 + np.exp(-z))\n",
    "\n",
    "    def cost_function(self, X, y):\n",
    "        N = len(y)\n",
    "        p = self.sigmoid(X @ self.beta)\n",
    "        cost = (-1 / N) * (y.T @ np.log(p) + (1 - y).T @ np.log(1 - p))\n",
    "        reg_term = (self.lambda_reg / (2 * N)) * np.sum(self.beta[1:] ** 2)\n",
    "        return cost + reg_term\n",
    "\n",
    "    def fit(self, X, y):\n",
    "        N, m = X.shape\n",
    "        self.beta = np.zeros(m)\n",
    "        cost_history = []\n",
    "\n",
    "        for _ in range(self.n_iter):\n",
    "            p = self.sigmoid(X @ self.beta)\n",
    "            gradient = (1 / N) * X.T @ (p - y)\n",
    "            # Apply regularization (exclude bias term)\n",
    "            gradient[1:] += (self.lambda_reg / N) * self.beta[1:]\n",
    "            self.beta -= self.learning_rate * gradient\n",
    "            cost = self.cost_function(X, y)\n",
    "            cost_history.append(cost)\n",
    "\n",
    "        return cost_history\n",
    "\n",
    "    def predict_prob(self, X):\n",
    "        return self.sigmoid(X @ self.beta)\n",
    "\n",
    "    def predict(self, X, threshold=0.5):\n",
    "        return (self.predict_prob(X) >= threshold).astype(int)\n"
   ]
  },
  {
   "cell_type": "code",
   "execution_count": 3,
   "metadata": {},
   "outputs": [
    {
     "name": "stdout",
     "output_type": "stream",
     "text": [
      "(100, 6) (100,)\n",
      "Shape of X_train: (480, 1)\n",
      "Shape of X_test: (120, 1)\n",
      "Shape of y_train: (80, 1)\n",
      "Shape of y_test: (20, 1)\n"
     ]
    },
    {
     "ename": "ValueError",
     "evalue": "matmul: Input operand 1 has a mismatch in its core dimension 0, with gufunc signature (n?,k),(k,m?)->(n?,m?) (size 80 is different from 480)",
     "output_type": "error",
     "traceback": [
      "\u001b[0;31m---------------------------------------------------------------------------\u001b[0m",
      "\u001b[0;31mValueError\u001b[0m                                Traceback (most recent call last)",
      "Cell \u001b[0;32mIn[3], line 26\u001b[0m\n\u001b[1;32m     24\u001b[0m \u001b[38;5;28;01mfor\u001b[39;00m lr \u001b[38;5;129;01min\u001b[39;00m learning_rates:\n\u001b[1;32m     25\u001b[0m     model \u001b[38;5;241m=\u001b[39m LogisticRegressionGD(learning_rate\u001b[38;5;241m=\u001b[39mlr, n_iter\u001b[38;5;241m=\u001b[39mn_iter, lambda_reg\u001b[38;5;241m=\u001b[39mlambda_reg)\n\u001b[0;32m---> 26\u001b[0m     cost_history \u001b[38;5;241m=\u001b[39m \u001b[43mmodel\u001b[49m\u001b[38;5;241;43m.\u001b[39;49m\u001b[43mfit\u001b[49m\u001b[43m(\u001b[49m\u001b[43mX_train\u001b[49m\u001b[43m,\u001b[49m\u001b[43m \u001b[49m\u001b[43my_train\u001b[49m\u001b[43m)\u001b[49m\n\u001b[1;32m     27\u001b[0m     y_pred \u001b[38;5;241m=\u001b[39m model\u001b[38;5;241m.\u001b[39mpredict(X_test)\n\u001b[1;32m     28\u001b[0m     accuracy \u001b[38;5;241m=\u001b[39m accuracy_score(y_test, y_pred)\n",
      "Cell \u001b[0;32mIn[2], line 25\u001b[0m, in \u001b[0;36mLogisticRegressionGD.fit\u001b[0;34m(self, X, y)\u001b[0m\n\u001b[1;32m     23\u001b[0m \u001b[38;5;28;01mfor\u001b[39;00m _ \u001b[38;5;129;01min\u001b[39;00m \u001b[38;5;28mrange\u001b[39m(\u001b[38;5;28mself\u001b[39m\u001b[38;5;241m.\u001b[39mn_iter):\n\u001b[1;32m     24\u001b[0m     p \u001b[38;5;241m=\u001b[39m \u001b[38;5;28mself\u001b[39m\u001b[38;5;241m.\u001b[39msigmoid(X \u001b[38;5;241m@\u001b[39m \u001b[38;5;28mself\u001b[39m\u001b[38;5;241m.\u001b[39mbeta)\n\u001b[0;32m---> 25\u001b[0m     gradient \u001b[38;5;241m=\u001b[39m \u001b[43m(\u001b[49m\u001b[38;5;241;43m1\u001b[39;49m\u001b[43m \u001b[49m\u001b[38;5;241;43m/\u001b[39;49m\u001b[43m \u001b[49m\u001b[43mN\u001b[49m\u001b[43m)\u001b[49m\u001b[43m \u001b[49m\u001b[38;5;241;43m*\u001b[39;49m\u001b[43m \u001b[49m\u001b[43mX\u001b[49m\u001b[38;5;241;43m.\u001b[39;49m\u001b[43mT\u001b[49m\u001b[43m \u001b[49m\u001b[38;5;241;43m@\u001b[39;49m\u001b[43m \u001b[49m\u001b[43m(\u001b[49m\u001b[43mp\u001b[49m\u001b[43m \u001b[49m\u001b[38;5;241;43m-\u001b[39;49m\u001b[43m \u001b[49m\u001b[43my\u001b[49m\u001b[43m)\u001b[49m\n\u001b[1;32m     26\u001b[0m     \u001b[38;5;66;03m# Apply regularization (exclude bias term)\u001b[39;00m\n\u001b[1;32m     27\u001b[0m     gradient[\u001b[38;5;241m1\u001b[39m:] \u001b[38;5;241m+\u001b[39m\u001b[38;5;241m=\u001b[39m (\u001b[38;5;28mself\u001b[39m\u001b[38;5;241m.\u001b[39mlambda_reg \u001b[38;5;241m/\u001b[39m N) \u001b[38;5;241m*\u001b[39m \u001b[38;5;28mself\u001b[39m\u001b[38;5;241m.\u001b[39mbeta[\u001b[38;5;241m1\u001b[39m:]\n",
      "\u001b[0;31mValueError\u001b[0m: matmul: Input operand 1 has a mismatch in its core dimension 0, with gufunc signature (n?,k),(k,m?)->(n?,m?) (size 80 is different from 480)"
     ]
    }
   ],
   "source": [
    "X, y, x, a_true = ld.load_simple_data()\n",
    "\n",
    "print(X.shape, y.shape)\n",
    "# Split the dataset\n",
    "X_train, X_test, y_train, y_test = train_test_split(X, y, test_size=0.2, random_state=2024)\n",
    "\n",
    "X_train = X_train.reshape(-1,1)\n",
    "X_test = X_test.reshape(-1,1)\n",
    "y_train = y_train.reshape(-1,1)\n",
    "y_test = y_test.reshape(-1,1)\n",
    "print(\"Shape of X_train:\", X_train.shape)\n",
    "print(\"Shape of X_test:\", X_test.shape)\n",
    "print(\"Shape of y_train:\", y_train.shape)\n",
    "print(\"Shape of y_test:\", y_test.shape)\n",
    "# Scale the data\n",
    "\n",
    "X_train, X_test = f.scale_train_test(X_train, X_test)\n",
    "y_train, y_test = f.scale_train_test(y_train, y_test)\n",
    "\n",
    "learning_rates = [0.001, 0.01, 0.1, 1]\n",
    "lambda_reg = 0.1\n",
    "n_iter = 1000\n",
    "\n",
    "for lr in learning_rates:\n",
    "    model = LogisticRegressionGD(learning_rate=lr, n_iter=n_iter, lambda_reg=lambda_reg)\n",
    "    cost_history = model.fit(X_train, y_train)\n",
    "    y_pred = model.predict(X_test)\n",
    "    accuracy = accuracy_score(y_test, y_pred)\n",
    "    print(f\"Learning Rate: {lr}, Accuracy: {accuracy:.4f}\")\n",
    "\n",
    "    plt.plot(cost_history, label=f'LR={lr}')\n",
    "\n",
    "plt.xlabel('Iteration')\n",
    "plt.ylabel('Cost')\n",
    "plt.title('Cost Function Convergence for Different Learning Rates')\n",
    "plt.legend()\n",
    "plt.show()\n"
   ]
  },
  {
   "cell_type": "code",
   "execution_count": null,
   "metadata": {},
   "outputs": [
    {
     "ename": "NameError",
     "evalue": "name 'LogisticRegressionGD' is not defined",
     "output_type": "error",
     "traceback": [
      "\u001b[0;31m---------------------------------------------------------------------------\u001b[0m",
      "\u001b[0;31mNameError\u001b[0m                                 Traceback (most recent call last)",
      "Cell \u001b[0;32mIn[25], line 5\u001b[0m\n\u001b[1;32m      2\u001b[0m learning_rate \u001b[38;5;241m=\u001b[39m \u001b[38;5;241m0.01\u001b[39m\n\u001b[1;32m      4\u001b[0m \u001b[38;5;28;01mfor\u001b[39;00m lam \u001b[38;5;129;01min\u001b[39;00m lambda_values:\n\u001b[0;32m----> 5\u001b[0m     model \u001b[38;5;241m=\u001b[39m \u001b[43mLogisticRegressionGD\u001b[49m(learning_rate\u001b[38;5;241m=\u001b[39mlearning_rate, n_iter\u001b[38;5;241m=\u001b[39mn_iter, lambda_reg\u001b[38;5;241m=\u001b[39mlam)\n\u001b[1;32m      6\u001b[0m     cost_history \u001b[38;5;241m=\u001b[39m model\u001b[38;5;241m.\u001b[39mfit(X_train, y_train)\n\u001b[1;32m      7\u001b[0m     y_pred \u001b[38;5;241m=\u001b[39m model\u001b[38;5;241m.\u001b[39mpredict(X_test)\n",
      "\u001b[0;31mNameError\u001b[0m: name 'LogisticRegressionGD' is not defined"
     ]
    }
   ],
   "source": [
    "lambda_values = [0.0, 0.01, 0.1, 1.0]\n",
    "learning_rate = 0.01\n",
    "\n",
    "for lam in lambda_values:\n",
    "    model = LogisticRegressionGD(learning_rate=learning_rate, n_iter=n_iter, lambda_reg=lam)\n",
    "    cost_history = model.fit(X_train, y_train)\n",
    "    y_pred = model.predict(X_test)\n",
    "    accuracy = accuracy_score(y_test, y_pred)\n",
    "    print(f\"Lambda: {lam}, Accuracy: {accuracy:.4f}\")\n",
    "\n",
    "    plt.plot(cost_history, label=f'Lambda={lam}')\n",
    "\n",
    "plt.xlabel('Iteration')\n",
    "plt.ylabel('Cost')\n",
    "plt.title('Cost Function Convergence for Different Regularization Parameters')\n",
    "plt.legend()\n",
    "plt.show()\n"
   ]
  }
 ],
 "metadata": {
  "kernelspec": {
   "display_name": ".venv",
   "language": "python",
   "name": "python3"
  },
  "language_info": {
   "codemirror_mode": {
    "name": "ipython",
    "version": 3
   },
   "file_extension": ".py",
   "mimetype": "text/x-python",
   "name": "python",
   "nbconvert_exporter": "python",
   "pygments_lexer": "ipython3",
   "version": "3.12.3"
  }
 },
 "nbformat": 4,
 "nbformat_minor": 2
}
