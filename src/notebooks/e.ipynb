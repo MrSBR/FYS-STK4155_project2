{
 "cells": [
  {
   "cell_type": "code",
   "execution_count": null,
   "metadata": {},
   "outputs": [],
   "source": [
    "import numpy as np\n",
    "import matplotlib.pyplot as plt\n",
    "from sklearn.model_selection import train_test_split\n",
    "from sklearn.metrics import accuracy_score\n",
    "from sklearn.datasets import make_classification\n",
    "import functions as f"
   ]
  },
  {
   "cell_type": "code",
   "execution_count": null,
   "metadata": {},
   "outputs": [],
   "source": [
    "class LogisticRegressionGD:\n",
    "    def __init__(self, learning_rate=0.01, n_iter=1000, lambda_reg=0.0):\n",
    "        self.learning_rate = learning_rate\n",
    "        self.n_iter = n_iter\n",
    "        self.lambda_reg = lambda_reg\n",
    "        self.beta = None\n",
    "\n",
    "    def sigmoid(self, z):\n",
    "        return 1 / (1 + np.exp(-z))\n",
    "\n",
    "    def cost_function(self, X, y):\n",
    "        N = len(y)\n",
    "        p = self.sigmoid(X @ self.beta)\n",
    "        cost = (-1 / N) * (y.T @ np.log(p) + (1 - y).T @ np.log(1 - p))\n",
    "        reg_term = (self.lambda_reg / (2 * N)) * np.sum(self.beta[1:] ** 2)\n",
    "        return cost + reg_term\n",
    "\n",
    "    def fit(self, X, y):\n",
    "        N, m = X.shape\n",
    "        self.beta = np.zeros(m)\n",
    "        cost_history = []\n",
    "\n",
    "        for _ in range(self.n_iter):\n",
    "            p = self.sigmoid(X @ self.beta)\n",
    "            gradient = (1 / N) * X.T @ (p - y)\n",
    "            # Apply regularization (exclude bias term)\n",
    "            gradient[1:] += (self.lambda_reg / N) * self.beta[1:]\n",
    "            self.beta -= self.learning_rate * gradient\n",
    "            cost = self.cost_function(X, y)\n",
    "            cost_history.append(cost)\n",
    "\n",
    "        return cost_history\n",
    "\n",
    "    def predict_prob(self, X):\n",
    "        return self.sigmoid(X @ self.beta)\n",
    "\n",
    "    def predict(self, X, threshold=0.5):\n",
    "        return (self.predict_prob(X) >= threshold).astype(int)\n"
   ]
  },
  {
   "cell_type": "code",
   "execution_count": null,
   "metadata": {},
   "outputs": [],
   "source": [
    "# Sample data (replace with your dataset)\n",
    "# X: Features, y: Labels\n",
    "# For demonstration, let's create a synthetic dataset\n",
    "\n",
    "X, y = make_classification(n_samples=1000, n_features=10, random_state=42)\n",
    "# Add intercept term\n",
    "X = np.hstack((np.ones((X.shape[0], 1)), X))\n",
    "\n",
    "# Split the dataset\n",
    "X_train, X_test, y_train, y_test = f.scale_train_test(X, y, test_size=0.2)\n",
    "\n",
    "learning_rates = [0.001, 0.01, 0.1, 1]\n",
    "lambda_reg = 0.1\n",
    "n_iter = 1000\n",
    "\n",
    "for lr in learning_rates:\n",
    "    model = LogisticRegressionGD(learning_rate=lr, n_iter=n_iter, lambda_reg=lambda_reg)\n",
    "    cost_history = model.fit(X_train, y_train)\n",
    "    y_pred = model.predict(X_test)\n",
    "    accuracy = accuracy_score(y_test, y_pred)\n",
    "    print(f\"Learning Rate: {lr}, Accuracy: {accuracy:.4f}\")\n",
    "\n",
    "    plt.plot(cost_history, label=f'LR={lr}')\n",
    "\n",
    "plt.xlabel('Iteration')\n",
    "plt.ylabel('Cost')\n",
    "plt.title('Cost Function Convergence for Different Learning Rates')\n",
    "plt.legend()\n",
    "plt.show()\n"
   ]
  },
  {
   "cell_type": "code",
   "execution_count": null,
   "metadata": {},
   "outputs": [],
   "source": [
    "lambda_values = [0.0, 0.01, 0.1, 1.0]\n",
    "learning_rate = 0.01\n",
    "\n",
    "for lam in lambda_values:\n",
    "    model = LogisticRegressionGD(learning_rate=learning_rate, n_iter=n_iter, lambda_reg=lam)\n",
    "    cost_history = model.fit(X_train, y_train)\n",
    "    y_pred = model.predict(X_test)\n",
    "    accuracy = accuracy_score(y_test, y_pred)\n",
    "    print(f\"Lambda: {lam}, Accuracy: {accuracy:.4f}\")\n",
    "\n",
    "    plt.plot(cost_history, label=f'Lambda={lam}')\n",
    "\n",
    "plt.xlabel('Iteration')\n",
    "plt.ylabel('Cost')\n",
    "plt.title('Cost Function Convergence for Different Regularization Parameters')\n",
    "plt.legend()\n",
    "plt.show()\n"
   ]
  }
 ],
 "metadata": {
  "kernelspec": {
   "display_name": ".venv",
   "language": "python",
   "name": "python3"
  },
  "language_info": {
   "name": "python",
   "version": "3.12.3"
  }
 },
 "nbformat": 4,
 "nbformat_minor": 2
}
